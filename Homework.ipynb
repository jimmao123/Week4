{
 "cells": [
  {
   "cell_type": "markdown",
   "metadata": {},
   "source": [
    "## Homework\n",
    "\n",
    "Complete this notebook and the exercise prompts in the other lecture notebooks and submit them on GitHub"
   ]
  },
  {
   "cell_type": "markdown",
   "metadata": {},
   "source": [
    "Question 1: *Provide a definition of and example for each of these terms:*\n",
    "\n",
    "| Term | Example | Definition |\n",
    "| ----- | ------- | ---------- |\n",
    "| int  |      10      |   a natural number without decimamls  | \n",
    "| float |      3.14      |   like a fraction, numbers that contains a decimal point   | \n",
    "| string   |     \"Hello world\"       |   a series of characters in quotes   | \n",
    "| boolean   |     True/False       |  determine whether true or false   | \n",
    "| list  |      [1,2,3,1]      |  a series of numbers, could be duplicated   | \n",
    "| set   |     {1,2,3}       |  a series of numbers, every single one is unique   | \n",
    "| dictionary |     {\"word\":\"happy\",\"value\":2}      |  a collection of keys and values, each key has a value  |"
   ]
  },
  {
   "cell_type": "markdown",
   "metadata": {},
   "source": [
    "Question 2: *For each of these operators, for each of the python data types we know, can it take them as operands? (Assume both operands are the same type.)*\n",
    "\n",
    "| Operator | Int/Float | String | Boolean | List | Set | Dictionary |\n",
    "| -------  | --------- | ------ | ------- | ----- | --- | --------- |\n",
    "| +\t|    Y     |    Y   |     N      |  Y |  N   |   N  |\n",
    "| -\t|    Y     |    N   |     N      |  N |  N  |    N |\n",
    "| *\t|   Y     |    Y   |      N     | Y | N  |  N   |\n",
    "| /\t|    Y     |   N    |     N      | N  |  N  |  N   |\n",
    "| **\t|    Y     |   Y    |     N      |N   | N   |  N   |\n",
    "| % |      Y   |    N   |       N    | N  |   N |    N |\n",
    "| == |     Y    |   Y    |      Y     | Y  |  Y  |    Y |\n",
    "| != |    Y     |  Y     |     Y      | Y  |  Y  |   Y  |\n",
    "| > |    Y     |    Y   |     N      |   N|   N |  N   |\n",
    "| < |   Y      |  Y     |   N        |  N |  N  |  N   |\n",
    "| >= |    Y     |   Y    |     N      |  N |  N  |  N   |\n",
    "| <= |    Y     |   Y    |     N      | N  |  N  | N    |\n",
    "| and |     Y    |    N   |     Y     | N  | N   | N   |\n",
    "| or |     Y    |    N   |    Y       | N  | N   | N    |\n",
    "| not |    Y     |    N   |    Y       |  N |   N |   N  |\n",
    "| in |       N  |    Y   |    N       | Y  |Y    |   Y  |\n",
    "| not in |    N     |   Y    |   N        |  Y | Y   |  Y   |"
   ]
  },
  {
   "cell_type": "markdown",
   "metadata": {},
   "source": [
    "Question 3: *List some common dictionary methods.*\n",
    "\n",
    "* first one      dict.keys()\n",
    "* second one     dict.values()\n",
    "* third one      dict.items()\n",
    "* fourth one     dict.update()\n",
    "* fifth one      dict.clear"
   ]
  },
  {
   "cell_type": "markdown",
   "metadata": {
    "vscode": {
     "languageId": "plaintext"
    }
   },
   "source": [
    "# Coding Exercise: \n",
    "\n",
    "Use your knowledge of lists, sets, and dictionaries to create a helpful contacts list"
   ]
  },
  {
   "cell_type": "code",
   "execution_count": null,
   "metadata": {},
   "outputs": [],
   "source": [
    "# Question 4\n",
    "\n",
    "\n",
    "# Make a list of resources as in the role of the people you can have this semester to rely on support. \n",
    "# For example - `professor`, `TA`, `Dean` etc. \n",
    "\n",
    "contacts ={\n",
    " 'VJ': 'vjain@colby.edu',\n",
    " 'Professor Klepach': 'tklepach@colby.edu',\n",
    " 'Professor Kugelmeyer': 'kmkulgelm@colby.edu',\n",
    " 'Professor Taylor': 'sataylor@colby.edu',\n",
    " 'TA': 'vjvara27@colby.edu',\n",
    " 'Dean': 'jduquain@colby.edu'\n",
    "}\n",
    "\n"
   ]
  },
  {
   "cell_type": "code",
   "execution_count": 2,
   "metadata": {},
   "outputs": [
    {
     "name": "stdout",
     "output_type": "stream",
     "text": [
      "VJ\n",
      "Professor Klepach\n",
      "Professor Kugelmeyer\n",
      "Professor Taylor\n"
     ]
    }
   ],
   "source": [
    "# Question 5\n",
    "\n",
    "# Write python code to print out the names of all professors in your contacts dictionary\n",
    "contacts ={\n",
    " 'VJ': 'vjain@colby.edu',\n",
    " 'Professor Klepach': 'tklepach@colby.edu',\n",
    " 'Professor Kugelmeyer': 'kmkulgelm@colby.edu',\n",
    " 'Professor Taylor': 'sataylor@colby.edu',\n",
    " 'TA': 'vjvara27@colby.edu',\n",
    " 'Dean': 'jduquain@colby.edu'\n",
    "}\n",
    "professor = list(contacts.keys())[:4]\n",
    "for professors in professor:\n",
    "    print(professors)"
   ]
  },
  {
   "cell_type": "code",
   "execution_count": 5,
   "metadata": {},
   "outputs": [
    {
     "name": "stdout",
     "output_type": "stream",
     "text": [
      "dict_keys(['VJ', 'Professor Klepach', 'Professor Kugelmeyer', 'Professor Taylor', 'TA', 'Dean'])\n"
     ]
    }
   ],
   "source": [
    "# Question 6\n",
    "\n",
    "# Write python code to create a list of the *names* of all professors, TAs, \n",
    "# coaches and class deans from your contacts dictionary\n",
    "contacts ={\n",
    " 'VJ': 'vjain@colby.edu',\n",
    " 'Professor Klepach': 'tklepach@colby.edu',\n",
    " 'Professor Kugelmeyer': 'kmkulgelm@colby.edu',\n",
    " 'Professor Taylor': 'sataylor@colby.edu',\n",
    " 'TA': 'vjvara27@colby.edu',\n",
    " 'Dean': 'jduquain@colby.edu'\n",
    "}\n",
    "print(contacts.keys())\n"
   ]
  },
  {
   "cell_type": "code",
   "execution_count": 6,
   "metadata": {},
   "outputs": [
    {
     "name": "stdout",
     "output_type": "stream",
     "text": [
      "dict_values(['vjain@colby.edu', 'tklepach@colby.edu', 'kmkulgelm@colby.edu', 'sataylor@colby.edu', 'vjvara27@colby.edu', 'jduquain@colby.edu'])\n"
     ]
    }
   ],
   "source": [
    "# Question 7\n",
    "\n",
    "# Write python code to create a list of the *contacts* of all professors, TAs, \n",
    "# coaches and class deans from your contacts dictionary\n",
    "contacts ={\n",
    " 'VJ': 'vjain@colby.edu',\n",
    " 'Professor Klepach': 'tklepach@colby.edu',\n",
    " 'Professor Kugelmeyer': 'kmkulgelm@colby.edu',\n",
    " 'Professor Taylor': 'sataylor@colby.edu',\n",
    " 'TA': 'vjvara27@colby.edu',\n",
    " 'Dean': 'jduquain@colby.edu'\n",
    "}\n",
    "print(contacts.items())"
   ]
  },
  {
   "cell_type": "code",
   "execution_count": 3,
   "metadata": {},
   "outputs": [
    {
     "name": "stdout",
     "output_type": "stream",
     "text": [
      "['vjain', 'tklepach', 'kmkulgelm', 'sataylor', 'vjvara27', 'jduquain']\n"
     ]
    }
   ],
   "source": [
    "# Question 8\n",
    "\n",
    "# Write python code to create a list of only the username of each person. For example, if the email is\n",
    "# username@colby.edu, print only username.\n",
    "contacts ={\n",
    " 'VJ': 'vjain@colby.edu',\n",
    " 'Professor Klepach': 'tklepach@colby.edu',\n",
    " 'Professor Kugelmeyer': 'kmkulgelm@colby.edu',\n",
    " 'Professor Taylor': 'sataylor@colby.edu',\n",
    " 'TA': 'vjvara27@colby.edu',\n",
    " 'Dean': 'jduquain@colby.edu'\n",
    "}\n",
    "username = []\n",
    "for email in contacts.values():\n",
    "    username_position = email.find('@')\n",
    "    usernames = email[:username_position]\n",
    "    username.append(usernames)\n",
    "print(username)"
   ]
  },
  {
   "cell_type": "code",
   "execution_count": 4,
   "metadata": {},
   "outputs": [
    {
     "name": "stdout",
     "output_type": "stream",
     "text": [
      "[('VJ', 'vjain@colby.edu'), ('Professor Klepach', 'tklepach@colby.edu'), ('Professor Kugelmeyer', 'kmkulgelm@colby.edu'), ('Professor Taylor', 'sataylor@colby.edu'), ('TA', 'vjvara27@colby.edu'), ('Dean', 'jduquain@colby.edu')]\n"
     ]
    }
   ],
   "source": [
    "# Question 9\n",
    "\n",
    "# Write python code to convert the `contacts` dictionary into a list of tuple. In this tuple, \n",
    "# the first item is the name, and the second item is their contact\n",
    "\n",
    "contacts ={\n",
    " 'VJ': 'vjain@colby.edu',\n",
    " 'Professor Klepach': 'tklepach@colby.edu',\n",
    " 'Professor Kugelmeyer': 'kmkulgelm@colby.edu',\n",
    " 'Professor Taylor': 'sataylor@colby.edu',\n",
    " 'TA': 'vjvara27@colby.edu',\n",
    " 'Dean': 'jduquain@colby.edu'\n",
    "}\n",
    "contacts_list = [(name, contact) for name, contact in contacts.items()]\n",
    "print(contacts_list)\n",
    "\n"
   ]
  },
  {
   "cell_type": "code",
   "execution_count": null,
   "metadata": {},
   "outputs": [],
   "source": [
    "# Question 10\n",
    "\n",
    "# For each object from Q5 - Q9, write their variable name and their type annotation in comments below\n",
    "\n",
    "# For example \n",
    "# contacts: dict[str, str]\n",
    "professor: list[str]\n",
    "username: list[str]\n",
    "email: str\n",
    "username_position: int\n",
    "usernames: str\n",
    "contacts_list: list[tuple[str,str]]\n",
    "\n"
   ]
  }
 ],
 "metadata": {
  "kernelspec": {
   "display_name": "Python 3",
   "language": "python",
   "name": "python3"
  },
  "language_info": {
   "codemirror_mode": {
    "name": "ipython",
    "version": 3
   },
   "file_extension": ".py",
   "mimetype": "text/x-python",
   "name": "python",
   "nbconvert_exporter": "python",
   "pygments_lexer": "ipython3",
   "version": "3.12.6"
  }
 },
 "nbformat": 4,
 "nbformat_minor": 2
}
